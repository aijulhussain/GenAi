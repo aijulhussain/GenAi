{
 "cells": [
  {
   "cell_type": "code",
   "execution_count": 2,
   "metadata": {},
   "outputs": [
    {
     "name": "stderr",
     "output_type": "stream",
     "text": [
      "USER_AGENT environment variable not set, consider setting it to identify your requests.\n"
     ]
    }
   ],
   "source": [
    "from langchain_groq import ChatGroq\n",
    "from langchain_community.document_loaders import WebBaseLoader"
   ]
  },
  {
   "cell_type": "code",
   "execution_count": 3,
   "metadata": {},
   "outputs": [
    {
     "name": "stdout",
     "output_type": "stream",
     "text": [
      "National Institute of Technology (NIT) Silchar is a public technical university located in Silchar, Assam, India. It is one of the 31 NITs established by the Government of India as institutions of national importance for imparting higher education in engineering, technology, and sciences.\n",
      "\n",
      "NIT Silchar was established in 1967 as a Regional Engineering College (REC) and was later upgraded to NIT status in 2002. The institute offers undergraduate, postgraduate, and doctoral programs in various disciplines of engineering, technology, and sciences. The undergraduate programs are offered through the Joint Entrance Examination (JEE) and the postgraduate programs are offered through the Graduate Aptitude Test in Engineering (GATE) and other national-level entrance exams.\n",
      "\n",
      "NIT Silchar has a sprawling campus spread over 600 acres and has state-of-the-art infrastructure, including modern classrooms, laboratories, libraries, hostels, and sports facilities. The institute has a strong faculty base with a good mix of experienced and young faculty members who are dedicated to teaching and research.\n",
      "\n",
      "NIT Silchar has collaborations and tie-ups with various national and international institutions, industries, and organizations for research, consultancy, and student exchange programs. The institute has a strong alumni network and its alumni are well-placed in various industries, academia, and research organizations in India and abroad.\n",
      "\n",
      "NIT Silchar is known for its academic excellence, research contributions, and industry-academia interactions. The institute has been consistently ranked among the top NITs in India and has a reputation for producing high-quality engineers, technologists, and scientists who contribute to the development of the nation and the world.\n"
     ]
    }
   ],
   "source": [
    "llm = ChatGroq(\n",
    "    temperature =0,\n",
    "    groq_api_key = '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'\n",
    ")\n",
    "\n",
    "response = llm.invoke(\"Tell me about NIT silchar?\")\n",
    "print(response.content)"
   ]
  },
  {
   "cell_type": "code",
   "execution_count": 14,
   "metadata": {},
   "outputs": [
    {
     "name": "stdout",
     "output_type": "stream",
     "text": [
      "USER_AGENT is set to: None\n"
     ]
    }
   ],
   "source": [
    "from dotenv import load_dotenv\n",
    "import os\n",
    "\n",
    "# Load environment variables from .env file\n",
    "load_dotenv()\n",
    "\n",
    "# Access the USER_AGENT variable\n",
    "user_agent = os.getenv(\"USER_AGENT\")\n",
    "print(f\"USER_AGENT is set to: {user_agent}\")\n"
   ]
  },
  {
   "cell_type": "code",
   "execution_count": 4,
   "metadata": {},
   "outputs": [
    {
     "name": "stdout",
     "output_type": "stream",
     "text": [
      "Apply for Product Line Manager II, Express Lane Footwear\n",
      "\n",
      "Search JobsSkip navigationSearch JobsNIKE, INC. JOBSContract JobsJoin The Talent CommunityLife @ NikeOverviewBenefitsBrandsOverviewJordanConverseTeamsOverviewAdministrative SupportAdvanced InnovationAir Manufacturing InnovationAviationCommunicationsCustomer ServiceDesignDigitalFacilitiesFinance & AccountingGovernment & Public AffairsHuman ResourcesInsights & AnalyticsLegalManufacturing & EngineeringMarketingMerchandisingPlanningPrivacyProcurementProduct Creation, Development & ManagementRetail CorporateRetail StoresSalesSocial & Community ImpactSports MarketingStrategic PlanningSupply Chain, Distribution & LogisticsSustainabilityTechnologyLocationsOverviewNike WHQNike New York HQEHQ: Hilversum, The NetherlandsELC: Laakdal, BelgiumGreater China HQDiversity, Equity & InclusionOverviewMilitary InclusionDisability InclusionIndigenous InclusionInternshipsProduct Creation, Development & ManagementProduct Line Manager II, Express Lane FootwearBeaverton, OregonBecome a Part of the NIKE, Inc. TeamNIKE, Inc. does more than outfit the world’s best athletes. It is a place to explore potential, obliterate boundaries and push out the edges of what can be. The company looks for people who can grow, think, dream and create. Its culture thrives by embracing diversity and rewarding imagination. The brand seeks achievers, leaders and visionaries. At NIKE, Inc. it’s about each person bringing skills and passion to a challenging and constantly evolving game.The first spark of a product idea sets the NIKE, Inc. Product team into motion. The team of developers, testers, engineers, designers and managers obsess over Nike’s iconic silhouettes and create groundbreaking new styles. They collaborate, ideate and refine products’ construction, fit and materials. They maintain a keen understanding of consumer and market trends. They skillfully operate at the intersection of buyer needs, technical feasibility and business objectives. And they work lockstep with Merchandising, Design, Manufacturing and others to produce the final result: products that reflect the soul of sport and inspire athletes to reach new levels of performance.Who we are looking for:As a Footwear Product Line Manager II for the North America Express Lane, we are looking for someone who will bring a positive attitude and foster collaboration across functions. This person has a passion for product and will lean in to support the Product Management team.We are looking for someone authentic, curious, and courageous, who is looking to grow and challenge themselves. This person has a demonstrated track record of positively influencing internal and external partners. We are also looking for someone who actively creates an environment of inclusion and trust, who works together with others as one team, supporting others in doing meaningful work, driving impact and connecting consumers to the Nike Brand every day. What you will work on:The Product Line Manager II for the North America Express Lane will support all stages of the product creation process at speed. As a Product Line Manager II, you’ll help drive product and operational excellence from brief to final product approval. You will lead the product creation workflow through data managements and effective collaboration across cross functional teams. You will deliver on key dates and hold yourself accountable to be a great teammate.  The ideal candidate will help the Footwear product team uncover sharp consumer and marketplace insights to inform impactful product briefs. The PLM II will monitor progress against objectives and learn/support aspects of product management to successfully deliver the line to market.A typical day/week includes ensuring the accuracy of information in key systems, sample management, participate in meetings and providing clear communication to guide cross functional teams through critical checkpoints.Who you will work with:You'll be responsible for collaborating with Design, Development, Merchandising & Brand teammates to create industry leading footwear with compelling & consumer centric stories.You will foster strong relationships with your peers across the entire Nike Footwear Family and you will be a proactive partner during critical checkpoints & planning moments.What you bring:Bachelor’s degree in a related field or equivalent combination of education and experience2+ years of product experience or related experience in merchandising, retail or productCuriosity. Possess a strong desire to learn about new consumers, ideas and opportunities.Great Product eye and strong style sensibilityProven track record of fostering a collaborative team environmentBasic understanding of the Footwear construction and story-telling processStrong presentation and interpersonal communication skillsStrong team player with positive attitudeProcess driven, with great organization skillsSelf-starter with ability to manage ambiguity and changeAttention to details and deadlinesAbility to travel up to 10% of the timeWe are committed to fostering a diverse and inclusive environment for all employees and job applicants. We offer a number of accommodations to complete our interview process including screen readers, sign language interpreters, accessible and single location for in-person interviews, closed captioning, and other reasonable modifications as needed. If you discover, as you navigate our application process, that you need assistance or an accommodation due to a disability, please complete the Candidate Accommodation Request Form.NIKE, Inc. is a growth company that looks for team members to grow with it. Nike offers a generous total rewards package, casual work environment, a diverse and inclusive culture, and an electric atmosphere for professional development. No matter the location, or the role, every Nike employee shares one galvanizing mission: To bring inspiration and innovation to every athlete* in the world.NIKE, Inc. is committed to employing a diverse workforce. Qualified applicants will receive consideration without regard to race, color, religion, sex, national origin, age, sexual orientation, gender identity, gender expression, veteran status, or disability.How We HireAt NIKE, Inc. we promise to provide a premium, inclusive, compelling and authentic candidate experience. Delivering on this promise means we allow you to be at your best — and to do that, you need to understand how the hiring process works. Transparency is key.\n",
      "\n",
      "* This overview explains our hiring process for corporate roles. Note there may be different hiring steps involved for non-corporate roles.Start nowBenefitsWhether it’s transportation or financial health, we continually invest in our employees to help them achieve greatness — inside and outside of work. All who work here should be able to realize their full potential.Employee Assistance ProgramEmployee Stock Purchase Plan (ESPP)HolidaysMedical PlanPaid Time Off (PTO)Product DiscountsSabbaticalsLearn moreFIND A STOREBECOME A MEMBERSIGN UP FOR EMAILSEND US FEEDBACKSTUDENT DISCOUNTSGET HELPGET HELPOrder StatusDeliveryReturnsPayment OptionsContact Us On Nike.com InquiriesContact Us On All Other InquiriesABOUT NIKEABOUT NIKENewsCareersInvestorsSustainabilityIndia© 2024 Nike, Inc. All Rights ReservedGuidesNike AdaptNike Air MaxNike FlyleatherNike PegasusNike Zoom FlyNike AirNike FlyEaseNike FreeNike ReactNike ZoomXNike Air Force 1Nike FlyknitNike JoyrideNike VaporflyTerms of SaleTerms of UseNike Privacy Policy\n"
     ]
    }
   ],
   "source": [
    "loader = WebBaseLoader(\"https://jobs.nike.com/job/R-44434?from=job%20search%20funnel\")\n",
    "page_data = loader.load().pop().page_content\n",
    "print(page_data)"
   ]
  },
  {
   "cell_type": "code",
   "execution_count": 5,
   "metadata": {},
   "outputs": [
    {
     "data": {
      "text/plain": [
       "str"
      ]
     },
     "execution_count": 5,
     "metadata": {},
     "output_type": "execute_result"
    }
   ],
   "source": [
    "from langchain_core.prompts import PromptTemplate\n",
    "\n",
    "prompt_extract = PromptTemplate.from_template(\n",
    "        \"\"\"\n",
    "        ### SCRAPED TEXT FROM WEBSITE:\n",
    "        {page_data}\n",
    "        ### INSTRUCTION:\n",
    "        The scraped text is from the career's page of a website.\n",
    "        Your job is to extract the job postings and return them in JSON format containing the \n",
    "        following keys: `role`, `experience`, `skills` and `description`.\n",
    "        Only return the valid JSON.\n",
    "        ### VALID JSON (NO PREAMBLE):    \n",
    "        \"\"\"\n",
    ")\n",
    "\n",
    "chain_extract = prompt_extract | llm \n",
    "res = chain_extract.invoke(input={'page_data':page_data})\n",
    "type(res.content)"
   ]
  },
  {
   "cell_type": "code",
   "execution_count": 6,
   "metadata": {},
   "outputs": [
    {
     "data": {
      "text/plain": [
       "[{'role': 'Product Line Manager II',\n",
       "  'experience': '2+ years of product experience or related experience in merchandising, retail or product',\n",
       "  'skills': ['Curiosity',\n",
       "   'Great Product eye and strong style sensibility',\n",
       "   'Proven track record of fostering a collaborative team environment',\n",
       "   'Basic understanding of the Footwear construction and story-telling process',\n",
       "   'Strong presentation and interpersonal communication skills',\n",
       "   'Strong team player with positive attitude',\n",
       "   'Process driven, with great organization skills',\n",
       "   'Self-starter with ability to manage ambiguity and change',\n",
       "   'Attention to details and deadlines',\n",
       "   'Ability to travel up to 10% of the time'],\n",
       "  'description': \"As a Footwear Product Line Manager II for the North America Express Lane, we are looking for someone who will bring a positive attitude and foster collaboration across functions. This person has a passion for product and will lean in to support the Product Management team.\\nWe are looking for someone authentic, curious, and courageous, who is looking to grow and challenge themselves. This person has a demonstrated track record of positively influencing internal and external partners. We are also looking for someone who actively creates an environment of inclusion and trust, who works together with others as one team, supporting others in doing meaningful work, driving impact and connecting consumers to the Nike Brand every day.\\nThe Product Line Manager II for the North America Express Lane will support all stages of the product creation process at speed. As a Product Line Manager II, you’ll help drive product and operational excellence from brief to final product approval. You will lead the product creation workflow through data managements and effective collaboration across cross functional teams. You will deliver on key dates and hold yourself accountable to be a great teammate. \\xa0The ideal candidate will help the Footwear product team uncover sharp consumer and marketplace insights to inform impactful product briefs. The PLM II will monitor progress against objectives and learn/support aspects of product management to successfully deliver the line to market.\\nA typical day/week includes ensuring the accuracy of information in key systems, sample management, participate in meetings and providing clear communication to guide cross functional teams through critical checkpoints.\\nYou'll be responsible for collaborating with Design, Development, Merchandising & Brand teammates to create industry leading footwear with compelling & consumer centric stories.You will foster strong relationships with your peers across the entire Nike Footwear Family and you will be a proactive partner during critical checkpoints & planning moments.\"}]"
      ]
     },
     "execution_count": 6,
     "metadata": {},
     "output_type": "execute_result"
    }
   ],
   "source": [
    "from langchain_core.output_parsers import JsonOutputParser\n",
    "\n",
    "json_parser = JsonOutputParser()\n",
    "json_res = json_parser.parse(res.content)\n",
    "json_res"
   ]
  },
  {
   "cell_type": "code",
   "execution_count": 7,
   "metadata": {},
   "outputs": [],
   "source": [
    "# Extracting the first dictionary from the list\n",
    "result_dict = json_res[0] if json_res else {}"
   ]
  },
  {
   "cell_type": "code",
   "execution_count": 8,
   "metadata": {},
   "outputs": [
    {
     "data": {
      "text/plain": [
       "dict"
      ]
     },
     "execution_count": 8,
     "metadata": {},
     "output_type": "execute_result"
    }
   ],
   "source": [
    "job= result_dict\n",
    "type(job)"
   ]
  },
  {
   "cell_type": "code",
   "execution_count": 9,
   "metadata": {},
   "outputs": [],
   "source": [
    "import uuid\n",
    "import chromadb\n",
    "\n",
    "client = chromadb.PersistentClient('vectorstore')\n",
    "collection = client.get_or_create_collection(name=\"portfolio\")"
   ]
  },
  {
   "cell_type": "code",
   "execution_count": 10,
   "metadata": {},
   "outputs": [
    {
     "data": {
      "text/plain": [
       "{'role': 'Product Line Manager II',\n",
       " 'experience': '2+ years of product experience or related experience in merchandising, retail or product',\n",
       " 'skills': ['Curiosity',\n",
       "  'Great Product eye and strong style sensibility',\n",
       "  'Proven track record of fostering a collaborative team environment',\n",
       "  'Basic understanding of the Footwear construction and story-telling process',\n",
       "  'Strong presentation and interpersonal communication skills',\n",
       "  'Strong team player with positive attitude',\n",
       "  'Process driven, with great organization skills',\n",
       "  'Self-starter with ability to manage ambiguity and change',\n",
       "  'Attention to details and deadlines',\n",
       "  'Ability to travel up to 10% of the time'],\n",
       " 'description': \"As a Footwear Product Line Manager II for the North America Express Lane, we are looking for someone who will bring a positive attitude and foster collaboration across functions. This person has a passion for product and will lean in to support the Product Management team.\\nWe are looking for someone authentic, curious, and courageous, who is looking to grow and challenge themselves. This person has a demonstrated track record of positively influencing internal and external partners. We are also looking for someone who actively creates an environment of inclusion and trust, who works together with others as one team, supporting others in doing meaningful work, driving impact and connecting consumers to the Nike Brand every day.\\nThe Product Line Manager II for the North America Express Lane will support all stages of the product creation process at speed. As a Product Line Manager II, you’ll help drive product and operational excellence from brief to final product approval. You will lead the product creation workflow through data managements and effective collaboration across cross functional teams. You will deliver on key dates and hold yourself accountable to be a great teammate. \\xa0The ideal candidate will help the Footwear product team uncover sharp consumer and marketplace insights to inform impactful product briefs. The PLM II will monitor progress against objectives and learn/support aspects of product management to successfully deliver the line to market.\\nA typical day/week includes ensuring the accuracy of information in key systems, sample management, participate in meetings and providing clear communication to guide cross functional teams through critical checkpoints.\\nYou'll be responsible for collaborating with Design, Development, Merchandising & Brand teammates to create industry leading footwear with compelling & consumer centric stories.You will foster strong relationships with your peers across the entire Nike Footwear Family and you will be a proactive partner during critical checkpoints & planning moments.\"}"
      ]
     },
     "execution_count": 10,
     "metadata": {},
     "output_type": "execute_result"
    }
   ],
   "source": [
    "job"
   ]
  },
  {
   "cell_type": "code",
   "execution_count": 12,
   "metadata": {},
   "outputs": [],
   "source": [
    "Resume_link= \"https://drive.google.com/file/d/1wdbL127j4xW3gyKlPCZtISZLDMXzEKAd/view?usp=drive_link\""
   ]
  },
  {
   "cell_type": "code",
   "execution_count": 13,
   "metadata": {},
   "outputs": [
    {
     "name": "stdout",
     "output_type": "stream",
     "text": [
      "Subject: Application for Product Line Manager II Position at Nike\n",
      "\n",
      "Dear Hiring Manager,\n",
      "\n",
      "I am writing to express my interest in the Product Line Manager II position for the North America Express Lane, as advertised on your website. As a dedicated M.Tech AI student at NIT Silchar, I have developed a strong skill set in Python, Machine Learning, and Deep Learning techniques such as CNN, RNN, and LSTM. I am proficient in ML libraries including Pandas, Numpy, scikit-learn, TensorFlow, Keras, and PyTorch, and have experience using tools like Git/GitHub, Google Colab, and Jupyter Notebook.\n",
      "\n",
      "The job description for the Product Line Manager II position aligns well with my capabilities and interests. I am particularly drawn to the emphasis on fostering a collaborative team environment, managing ambiguity and change, and delivering on key dates with attention to detail and deadlines. My experience in working on cross-functional teams and my ability to manage multiple projects simultaneously make me a strong fit for this role.\n",
      "\n",
      "Furthermore, my experience in applying advanced techniques to solve real-world challenges, as well as my passion for product and footwear construction, make me an ideal candidate for this position. I am confident that my skills and experience make me a valuable asset to the Nike team.\n",
      "\n",
      "I have attached my resume for your review. Thank you for considering my application. I look forward to the opportunity to discuss my qualifications further.\n",
      "\n",
      "Sincerely,\n",
      "Aijul Hussain\n",
      "\n",
      "Resume Link: [Resume_link]\n"
     ]
    }
   ],
   "source": [
    "prompt_email = PromptTemplate.from_template(\n",
    "        \"\"\"\n",
    "        ### JOB DESCRIPTION:\n",
    "        {job_description}\n",
    "        \n",
    "        ### INSTRUCTION:\n",
    "        You are Aijul Hussain, a dedicated M.Tech AI student at NIT Silchar, skilled in Python and specialized in Machine Learning and Deep Learning\n",
    "         techniques such as CNN, RNN, and LSTM. Proficient with ML libraries including Pandas, Numpy, scikit-learn, TensorFlow,\n",
    "         Keras, and PyTorch. Experienced in using tools like Git/GitHub, Google Colab, and Jupyter Notebook.Focused on applying\n",
    "         advanced techniques to solve real-world challenges.\n",
    "        Your job is to write a cold email to the HR or recruiter regarding the job or internship mentioned above describing the capability of your \n",
    "        in fulfilling their needs.\n",
    "        Also add the following Resume_link to showcase your resume.\n",
    "        Do not provide a preamble.\n",
    "        ### EMAIL (NO PREAMBLE):\n",
    "        \n",
    "        \"\"\"\n",
    "        )\n",
    "\n",
    "chain_email = prompt_email | llm\n",
    "res = chain_email.invoke({\"job_description\": str(job), \"link_list\": Resume_link})\n",
    "print(res.content)"
   ]
  },
  {
   "cell_type": "code",
   "execution_count": null,
   "metadata": {},
   "outputs": [],
   "source": []
  }
 ],
 "metadata": {
  "kernelspec": {
   "display_name": "base",
   "language": "python",
   "name": "python3"
  },
  "language_info": {
   "codemirror_mode": {
    "name": "ipython",
    "version": 3
   },
   "file_extension": ".py",
   "mimetype": "text/x-python",
   "name": "python",
   "nbconvert_exporter": "python",
   "pygments_lexer": "ipython3",
   "version": "3.9.13"
  }
 },
 "nbformat": 4,
 "nbformat_minor": 2
}
